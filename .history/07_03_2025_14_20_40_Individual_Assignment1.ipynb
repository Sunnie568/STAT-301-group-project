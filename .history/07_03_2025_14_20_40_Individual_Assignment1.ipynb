{
 "cells": [
  {
   "cell_type": "markdown",
   "id": "608abd89-a46b-4586-9cd5-b2b765e31b8e",
   "metadata": {},
   "source": [
    "## Planning Stage: Data Description & Exploratory Data Analysis"
   ]
  },
  {
   "cell_type": "code",
   "execution_count": 1,
   "id": "44aff205-61bb-4d2f-96df-c48cc784a190",
   "metadata": {},
   "outputs": [
    {
     "name": "stderr",
     "output_type": "stream",
     "text": [
      "── \u001b[1mAttaching core tidyverse packages\u001b[22m ──────────────────────── tidyverse 2.0.0 ──\n",
      "\u001b[32m✔\u001b[39m \u001b[34mdplyr    \u001b[39m 1.1.4     \u001b[32m✔\u001b[39m \u001b[34mreadr    \u001b[39m 2.1.5\n",
      "\u001b[32m✔\u001b[39m \u001b[34mforcats  \u001b[39m 1.0.0     \u001b[32m✔\u001b[39m \u001b[34mstringr  \u001b[39m 1.5.1\n",
      "\u001b[32m✔\u001b[39m \u001b[34mggplot2  \u001b[39m 3.5.1     \u001b[32m✔\u001b[39m \u001b[34mtibble   \u001b[39m 3.2.1\n",
      "\u001b[32m✔\u001b[39m \u001b[34mlubridate\u001b[39m 1.9.3     \u001b[32m✔\u001b[39m \u001b[34mtidyr    \u001b[39m 1.3.1\n",
      "\u001b[32m✔\u001b[39m \u001b[34mpurrr    \u001b[39m 1.0.2     \n",
      "── \u001b[1mConflicts\u001b[22m ────────────────────────────────────────── tidyverse_conflicts() ──\n",
      "\u001b[31m✖\u001b[39m \u001b[34mdplyr\u001b[39m::\u001b[32mfilter()\u001b[39m masks \u001b[34mstats\u001b[39m::filter()\n",
      "\u001b[31m✖\u001b[39m \u001b[34mdplyr\u001b[39m::\u001b[32mlag()\u001b[39m    masks \u001b[34mstats\u001b[39m::lag()\n",
      "\u001b[36mℹ\u001b[39m Use the conflicted package (\u001b[3m\u001b[34m<http://conflicted.r-lib.org/>\u001b[39m\u001b[23m) to force all conflicts to become errors\n",
      "\n",
      "Attaching package: ‘modelr’\n",
      "\n",
      "\n",
      "The following object is masked from ‘package:broom’:\n",
      "\n",
      "    bootstrap\n",
      "\n",
      "\n"
     ]
    }
   ],
   "source": [
    "library(tidyverse)\n",
    "library(readr)\n",
    "library(broom)\n",
    "library(modelr)"
   ]
  },
  {
   "cell_type": "markdown",
   "id": "8ebbfa55-49a5-4996-bdba-273e7ee254a8",
   "metadata": {},
   "source": [
    "### (1) Data Description\n",
    "The dataset contains 10,000 observations and 12 variables related to student placements. It includes numeric variables such as CGPA, internships, projects, and test scores, as well as categorical variables like extracurricular activities and placement status.\n",
    "\n",
    "\n",
    "- CGPA (Integer) - It is the overall grades achieved by the student.\n",
    "- Internships (Float/Double) - It tells the number of internships a student has done.\n",
    "- Projects (Integer) - Number of projects a student has done.\n",
    "- Workshops/Certifications (Integer) - As there are multiple courses available online student opt for them to upskill themselves.\n",
    "- ApptitudeTestScore (Integer) - Aptitude test are generally a part of the recruitment process to understand the Quant and logical thinking of the student.\n",
    "- SoftSkillrating (Float/Double) - Communication is a key role that plays in the placement or in any aspect of the life.\n",
    "- ExtraCurricularActivities (Character) - This helps provide and insight about the personality of an individual regarding how much he is active other than the academic.\n",
    "- PlacementTraining (Character) - It is provided to students in college to ace the placement process.\n",
    "- SSC and HSC (Integer) - Senior Secondary and Higher Secondary Marks.\n",
    "- PlacementStatus (Character) - This is our target column with two classes placed and not placed."
   ]
  },
  {
   "cell_type": "markdown",
   "id": "89534b90-9b6b-4024-a36e-b79afd8cc6d0",
   "metadata": {},
   "source": [
    "### Reference\n",
    "#### Sources\n",
    "- Dataset: Kumbhar, Ruchika. \"Placement Prediction Dataset.\" Kaggle, https://www.kaggle.com/datasets/ruchikakumbhar/placement-prediction-dataset/data.\n",
    "- Model Training Reference: GeeksforGeeks, Train a Model Using CatBoost, https://www.geeksforgeeks.org/train-a-model-using-catboost/.\n",
    "\n",
    "#### Collection Methodology\n",
    "The dataset was likely collected from academic records and placement training programs, which reflects real-world student placement outcomes.\n",
    "More details on training a machine learning model (e.g., CatBoost) for placement prediction can be found at GeeksforGeeks: https://www.geeksforgeeks.org/train-a-model-using-catboost/."
   ]
  },
  {
   "cell_type": "markdown",
   "id": "5f586106-45e7-4268-a85d-17c14873692e",
   "metadata": {},
   "source": [
    "### (2) Question\n",
    "a) `Quesiton` What factors influence whether a student gets placed in a job or not? \n",
    "\n",
    "Specifically, we aim to analyze how all other variables in the dataset except StudentID impact the probability of a student being placed. We'll not use StudentID as an explanatory variable because it is merely a unique identifier for each student and does not carry any meaningful information about their placement status. \n",
    "\n",
    "The response variable (PlacementStatus) is categorical (Placed/Not Placed), so we'll use logistic regression model in later process.\n",
    "\n",
    "b) This question is focused on both inference and prediction. The inference aspect helps identify which factors significantly contribute to job placement, while the prediction aspect allows us to estimate the likelihood of a student being placed based on their academic and extracurricular profile."
   ]
  },
  {
   "cell_type": "markdown",
   "id": "f63a82bc-8775-4302-9734-1b3b73bcf60e",
   "metadata": {},
   "source": [
    "### (3) Exploratory Data Analysis and Visualization\n",
    "#### 1. Load and Clean the Data"
   ]
  },
  {
   "cell_type": "code",
   "execution_count": 2,
   "id": "c94dc558-e91c-4ecb-9c39-2516165bbbb7",
   "metadata": {},
   "outputs": [
    {
     "ename": "ERROR",
     "evalue": "Error in open.connection(structure(4L, class = c(\"curl\", \"connection\"), conn_id = <pointer: 0x1ed>), : HTTP error 404.\n",
     "output_type": "error",
     "traceback": [
      "Error in open.connection(structure(4L, class = c(\"curl\", \"connection\"), conn_id = <pointer: 0x1ed>), : HTTP error 404.\nTraceback:\n",
      "1. read_csv(\"https://raw.githubusercontent.com/Sunnie568/STAT-301-group-project/main/data/placementdata.csv\")",
      "2. vroom::vroom(file, delim = \",\", col_names = col_names, col_types = col_types, \n .     col_select = {\n .         {\n .             col_select\n .         }\n .     }, id = id, .name_repair = name_repair, skip = skip, n_max = n_max, \n .     na = na, quote = quote, comment = comment, skip_empty_rows = skip_empty_rows, \n .     trim_ws = trim_ws, escape_double = TRUE, escape_backslash = FALSE, \n .     locale = locale, guess_max = guess_max, show_col_types = show_col_types, \n .     progress = progress, altrep = lazy, num_threads = num_threads)",
      "3. vroom_(file, delim = delim %||% col_types$delim, col_names = col_names, \n .     col_types = col_types, id = id, skip = skip, col_select = col_select, \n .     name_repair = .name_repair, na = na, quote = quote, trim_ws = trim_ws, \n .     escape_double = escape_double, escape_backslash = escape_backslash, \n .     comment = comment, skip_empty_rows = skip_empty_rows, locale = locale, \n .     guess_max = guess_max, n_max = n_max, altrep = vroom_altrep(altrep), \n .     num_threads = num_threads, progress = progress)",
      "4. (function (con, ...) \n . UseMethod(\"open\"))(structure(4L, class = c(\"curl\", \"connection\"\n . ), conn_id = <pointer: 0x1ed>), \"rb\")",
      "5. open.connection(structure(4L, class = c(\"curl\", \"connection\"), conn_id = <pointer: 0x1ed>), \n .     \"rb\")"
     ]
    }
   ],
   "source": [
    "# Load the dataset\n",
    "placement_data <- read_csv(\"https://raw.githubusercontent.com/Sunnie568/STAT-301-group-project/main/data/placementdata.csv\")\n",
    "\n",
    "# Check for missing values\n",
    "sum(is.na(placement_data))"
   ]
  },
  {
   "cell_type": "code",
   "execution_count": null,
   "id": "9615e2fa-797f-4480-9823-ba63e9e6fa0d",
   "metadata": {},
   "outputs": [],
   "source": []
  }
 ],
 "metadata": {
  "kernelspec": {
   "display_name": "R",
   "language": "R",
   "name": "ir"
  },
  "language_info": {
   "codemirror_mode": "r",
   "file_extension": ".r",
   "mimetype": "text/x-r-source",
   "name": "R",
   "pygments_lexer": "r",
   "version": "4.3.3"
  }
 },
 "nbformat": 4,
 "nbformat_minor": 5
}
