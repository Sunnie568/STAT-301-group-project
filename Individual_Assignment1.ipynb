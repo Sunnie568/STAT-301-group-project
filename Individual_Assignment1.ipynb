{
 "cells": [
  {
   "cell_type": "markdown",
   "id": "608abd89-a46b-4586-9cd5-b2b765e31b8e",
   "metadata": {},
   "source": [
    "## Planning Stage: Data Description & Exploratory Data Analysis"
   ]
  },
  {
   "cell_type": "code",
   "execution_count": null,
   "id": "44aff205-61bb-4d2f-96df-c48cc784a190",
   "metadata": {},
   "outputs": [],
   "source": []
  }
 ],
 "metadata": {
  "kernelspec": {
   "display_name": "R",
   "language": "R",
   "name": "ir"
  },
  "language_info": {
   "codemirror_mode": "r",
   "file_extension": ".r",
   "mimetype": "text/x-r-source",
   "name": "R",
   "pygments_lexer": "r",
   "version": "4.3.3"
  }
 },
 "nbformat": 4,
 "nbformat_minor": 5
}
